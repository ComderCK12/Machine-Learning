{
 "cells": [
  {
   "cell_type": "code",
   "execution_count": 1,
   "metadata": {},
   "outputs": [],
   "source": [
    "import numpy as np\n",
    "import pandas as pd\n",
    "import matplotlib.pyplot as plt \n",
    "import keras\n",
    "import tensorflow as tf\n",
    "from sklearn.model_selection import train_test_split\n"
   ]
  },
  {
   "cell_type": "code",
   "execution_count": 2,
   "metadata": {},
   "outputs": [
    {
     "data": {
      "text/html": [
       "<div>\n",
       "<style scoped>\n",
       "    .dataframe tbody tr th:only-of-type {\n",
       "        vertical-align: middle;\n",
       "    }\n",
       "\n",
       "    .dataframe tbody tr th {\n",
       "        vertical-align: top;\n",
       "    }\n",
       "\n",
       "    .dataframe thead th {\n",
       "        text-align: right;\n",
       "    }\n",
       "</style>\n",
       "<table border=\"1\" class=\"dataframe\">\n",
       "  <thead>\n",
       "    <tr style=\"text-align: right;\">\n",
       "      <th></th>\n",
       "      <th>age</th>\n",
       "      <th>sex</th>\n",
       "      <th>cp</th>\n",
       "      <th>trestbps</th>\n",
       "      <th>chol</th>\n",
       "      <th>fbs</th>\n",
       "      <th>restecg</th>\n",
       "      <th>thalach</th>\n",
       "      <th>exang</th>\n",
       "      <th>oldpeak</th>\n",
       "      <th>slope</th>\n",
       "      <th>ca</th>\n",
       "      <th>thal</th>\n",
       "      <th>condition</th>\n",
       "    </tr>\n",
       "  </thead>\n",
       "  <tbody>\n",
       "    <tr>\n",
       "      <th>0</th>\n",
       "      <td>69</td>\n",
       "      <td>1</td>\n",
       "      <td>0</td>\n",
       "      <td>160</td>\n",
       "      <td>234</td>\n",
       "      <td>1</td>\n",
       "      <td>2</td>\n",
       "      <td>131</td>\n",
       "      <td>0</td>\n",
       "      <td>0.1</td>\n",
       "      <td>1</td>\n",
       "      <td>1</td>\n",
       "      <td>0</td>\n",
       "      <td>0</td>\n",
       "    </tr>\n",
       "    <tr>\n",
       "      <th>1</th>\n",
       "      <td>69</td>\n",
       "      <td>0</td>\n",
       "      <td>0</td>\n",
       "      <td>140</td>\n",
       "      <td>239</td>\n",
       "      <td>0</td>\n",
       "      <td>0</td>\n",
       "      <td>151</td>\n",
       "      <td>0</td>\n",
       "      <td>1.8</td>\n",
       "      <td>0</td>\n",
       "      <td>2</td>\n",
       "      <td>0</td>\n",
       "      <td>0</td>\n",
       "    </tr>\n",
       "    <tr>\n",
       "      <th>2</th>\n",
       "      <td>66</td>\n",
       "      <td>0</td>\n",
       "      <td>0</td>\n",
       "      <td>150</td>\n",
       "      <td>226</td>\n",
       "      <td>0</td>\n",
       "      <td>0</td>\n",
       "      <td>114</td>\n",
       "      <td>0</td>\n",
       "      <td>2.6</td>\n",
       "      <td>2</td>\n",
       "      <td>0</td>\n",
       "      <td>0</td>\n",
       "      <td>0</td>\n",
       "    </tr>\n",
       "    <tr>\n",
       "      <th>3</th>\n",
       "      <td>65</td>\n",
       "      <td>1</td>\n",
       "      <td>0</td>\n",
       "      <td>138</td>\n",
       "      <td>282</td>\n",
       "      <td>1</td>\n",
       "      <td>2</td>\n",
       "      <td>174</td>\n",
       "      <td>0</td>\n",
       "      <td>1.4</td>\n",
       "      <td>1</td>\n",
       "      <td>1</td>\n",
       "      <td>0</td>\n",
       "      <td>1</td>\n",
       "    </tr>\n",
       "    <tr>\n",
       "      <th>4</th>\n",
       "      <td>64</td>\n",
       "      <td>1</td>\n",
       "      <td>0</td>\n",
       "      <td>110</td>\n",
       "      <td>211</td>\n",
       "      <td>0</td>\n",
       "      <td>2</td>\n",
       "      <td>144</td>\n",
       "      <td>1</td>\n",
       "      <td>1.8</td>\n",
       "      <td>1</td>\n",
       "      <td>0</td>\n",
       "      <td>0</td>\n",
       "      <td>0</td>\n",
       "    </tr>\n",
       "  </tbody>\n",
       "</table>\n",
       "</div>"
      ],
      "text/plain": [
       "   age  sex  cp  trestbps  chol  fbs  restecg  thalach  exang  oldpeak  slope  \\\n",
       "0   69    1   0       160   234    1        2      131      0      0.1      1   \n",
       "1   69    0   0       140   239    0        0      151      0      1.8      0   \n",
       "2   66    0   0       150   226    0        0      114      0      2.6      2   \n",
       "3   65    1   0       138   282    1        2      174      0      1.4      1   \n",
       "4   64    1   0       110   211    0        2      144      1      1.8      1   \n",
       "\n",
       "   ca  thal  condition  \n",
       "0   1     0          0  \n",
       "1   2     0          0  \n",
       "2   0     0          0  \n",
       "3   1     0          1  \n",
       "4   0     0          0  "
      ]
     },
     "execution_count": 2,
     "metadata": {},
     "output_type": "execute_result"
    }
   ],
   "source": [
    "dt = pd.read_csv('heart_cleveland_upload.csv')\n",
    "dt.head()"
   ]
  },
  {
   "cell_type": "code",
   "execution_count": 3,
   "metadata": {},
   "outputs": [
    {
     "data": {
      "text/plain": [
       "(297, 13)"
      ]
     },
     "execution_count": 3,
     "metadata": {},
     "output_type": "execute_result"
    }
   ],
   "source": [
    "X = dt.drop(columns='condition')\n",
    "X.shape"
   ]
  },
  {
   "cell_type": "code",
   "execution_count": 4,
   "metadata": {},
   "outputs": [
    {
     "data": {
      "text/plain": [
       "(297,)"
      ]
     },
     "execution_count": 4,
     "metadata": {},
     "output_type": "execute_result"
    }
   ],
   "source": [
    "y = dt['condition']\n",
    "y.shape"
   ]
  },
  {
   "cell_type": "code",
   "execution_count": 5,
   "metadata": {},
   "outputs": [
    {
     "name": "stdout",
     "output_type": "stream",
     "text": [
      "Columns in X:  Index(['age', 'sex', 'cp', 'trestbps', 'chol', 'fbs', 'restecg', 'thalach',\n",
      "       'exang', 'oldpeak', 'slope', 'ca', 'thal'],\n",
      "      dtype='object')\n",
      "y:  condition\n"
     ]
    }
   ],
   "source": [
    "print(f\"Columns in X: \", X.columns)\n",
    "print(f\"y: \", y.name)"
   ]
  },
  {
   "cell_type": "code",
   "execution_count": 6,
   "metadata": {},
   "outputs": [],
   "source": [
    "# from sklearn.preprocessing import LabelEncoder\n",
    "# LE = LabelEncoder()"
   ]
  },
  {
   "cell_type": "code",
   "execution_count": 7,
   "metadata": {},
   "outputs": [
    {
     "data": {
      "text/plain": [
       "((237, 13), (60, 13), (237,), (60,))"
      ]
     },
     "execution_count": 7,
     "metadata": {},
     "output_type": "execute_result"
    }
   ],
   "source": [
    "X_train, X_test, y_train, y_test = train_test_split(X, y, test_size=0.2, random_state=0)\n",
    "X_train.shape, X_test.shape, y_train.shape, y_test.shape"
   ]
  },
  {
   "cell_type": "code",
   "execution_count": 8,
   "metadata": {},
   "outputs": [
    {
     "data": {
      "text/html": [
       "<div>\n",
       "<style scoped>\n",
       "    .dataframe tbody tr th:only-of-type {\n",
       "        vertical-align: middle;\n",
       "    }\n",
       "\n",
       "    .dataframe tbody tr th {\n",
       "        vertical-align: top;\n",
       "    }\n",
       "\n",
       "    .dataframe thead th {\n",
       "        text-align: right;\n",
       "    }\n",
       "</style>\n",
       "<table border=\"1\" class=\"dataframe\">\n",
       "  <thead>\n",
       "    <tr style=\"text-align: right;\">\n",
       "      <th></th>\n",
       "      <th>age</th>\n",
       "      <th>sex</th>\n",
       "      <th>cp</th>\n",
       "      <th>trestbps</th>\n",
       "      <th>chol</th>\n",
       "      <th>fbs</th>\n",
       "      <th>restecg</th>\n",
       "      <th>thalach</th>\n",
       "      <th>exang</th>\n",
       "      <th>oldpeak</th>\n",
       "      <th>slope</th>\n",
       "      <th>ca</th>\n",
       "      <th>thal</th>\n",
       "    </tr>\n",
       "  </thead>\n",
       "  <tbody>\n",
       "    <tr>\n",
       "      <th>282</th>\n",
       "      <td>43</td>\n",
       "      <td>1</td>\n",
       "      <td>3</td>\n",
       "      <td>120</td>\n",
       "      <td>177</td>\n",
       "      <td>0</td>\n",
       "      <td>2</td>\n",
       "      <td>120</td>\n",
       "      <td>1</td>\n",
       "      <td>2.5</td>\n",
       "      <td>1</td>\n",
       "      <td>0</td>\n",
       "      <td>2</td>\n",
       "    </tr>\n",
       "    <tr>\n",
       "      <th>81</th>\n",
       "      <td>67</td>\n",
       "      <td>0</td>\n",
       "      <td>2</td>\n",
       "      <td>152</td>\n",
       "      <td>277</td>\n",
       "      <td>0</td>\n",
       "      <td>0</td>\n",
       "      <td>172</td>\n",
       "      <td>0</td>\n",
       "      <td>0.0</td>\n",
       "      <td>0</td>\n",
       "      <td>1</td>\n",
       "      <td>0</td>\n",
       "    </tr>\n",
       "    <tr>\n",
       "      <th>108</th>\n",
       "      <td>54</td>\n",
       "      <td>1</td>\n",
       "      <td>2</td>\n",
       "      <td>120</td>\n",
       "      <td>258</td>\n",
       "      <td>0</td>\n",
       "      <td>2</td>\n",
       "      <td>147</td>\n",
       "      <td>0</td>\n",
       "      <td>0.4</td>\n",
       "      <td>1</td>\n",
       "      <td>0</td>\n",
       "      <td>2</td>\n",
       "    </tr>\n",
       "    <tr>\n",
       "      <th>146</th>\n",
       "      <td>42</td>\n",
       "      <td>1</td>\n",
       "      <td>2</td>\n",
       "      <td>130</td>\n",
       "      <td>180</td>\n",
       "      <td>0</td>\n",
       "      <td>0</td>\n",
       "      <td>150</td>\n",
       "      <td>0</td>\n",
       "      <td>0.0</td>\n",
       "      <td>0</td>\n",
       "      <td>0</td>\n",
       "      <td>0</td>\n",
       "    </tr>\n",
       "    <tr>\n",
       "      <th>217</th>\n",
       "      <td>58</td>\n",
       "      <td>1</td>\n",
       "      <td>3</td>\n",
       "      <td>146</td>\n",
       "      <td>218</td>\n",
       "      <td>0</td>\n",
       "      <td>0</td>\n",
       "      <td>105</td>\n",
       "      <td>0</td>\n",
       "      <td>2.0</td>\n",
       "      <td>1</td>\n",
       "      <td>1</td>\n",
       "      <td>2</td>\n",
       "    </tr>\n",
       "    <tr>\n",
       "      <th>...</th>\n",
       "      <td>...</td>\n",
       "      <td>...</td>\n",
       "      <td>...</td>\n",
       "      <td>...</td>\n",
       "      <td>...</td>\n",
       "      <td>...</td>\n",
       "      <td>...</td>\n",
       "      <td>...</td>\n",
       "      <td>...</td>\n",
       "      <td>...</td>\n",
       "      <td>...</td>\n",
       "      <td>...</td>\n",
       "      <td>...</td>\n",
       "    </tr>\n",
       "    <tr>\n",
       "      <th>251</th>\n",
       "      <td>53</td>\n",
       "      <td>0</td>\n",
       "      <td>3</td>\n",
       "      <td>130</td>\n",
       "      <td>264</td>\n",
       "      <td>0</td>\n",
       "      <td>2</td>\n",
       "      <td>143</td>\n",
       "      <td>0</td>\n",
       "      <td>0.4</td>\n",
       "      <td>1</td>\n",
       "      <td>0</td>\n",
       "      <td>0</td>\n",
       "    </tr>\n",
       "    <tr>\n",
       "      <th>192</th>\n",
       "      <td>61</td>\n",
       "      <td>1</td>\n",
       "      <td>3</td>\n",
       "      <td>120</td>\n",
       "      <td>260</td>\n",
       "      <td>0</td>\n",
       "      <td>0</td>\n",
       "      <td>140</td>\n",
       "      <td>1</td>\n",
       "      <td>3.6</td>\n",
       "      <td>1</td>\n",
       "      <td>1</td>\n",
       "      <td>2</td>\n",
       "    </tr>\n",
       "    <tr>\n",
       "      <th>117</th>\n",
       "      <td>52</td>\n",
       "      <td>1</td>\n",
       "      <td>2</td>\n",
       "      <td>172</td>\n",
       "      <td>199</td>\n",
       "      <td>1</td>\n",
       "      <td>0</td>\n",
       "      <td>162</td>\n",
       "      <td>0</td>\n",
       "      <td>0.5</td>\n",
       "      <td>0</td>\n",
       "      <td>0</td>\n",
       "      <td>2</td>\n",
       "    </tr>\n",
       "    <tr>\n",
       "      <th>47</th>\n",
       "      <td>52</td>\n",
       "      <td>1</td>\n",
       "      <td>1</td>\n",
       "      <td>134</td>\n",
       "      <td>201</td>\n",
       "      <td>0</td>\n",
       "      <td>0</td>\n",
       "      <td>158</td>\n",
       "      <td>0</td>\n",
       "      <td>0.8</td>\n",
       "      <td>0</td>\n",
       "      <td>1</td>\n",
       "      <td>0</td>\n",
       "    </tr>\n",
       "    <tr>\n",
       "      <th>172</th>\n",
       "      <td>65</td>\n",
       "      <td>1</td>\n",
       "      <td>3</td>\n",
       "      <td>120</td>\n",
       "      <td>177</td>\n",
       "      <td>0</td>\n",
       "      <td>0</td>\n",
       "      <td>140</td>\n",
       "      <td>0</td>\n",
       "      <td>0.4</td>\n",
       "      <td>0</td>\n",
       "      <td>0</td>\n",
       "      <td>2</td>\n",
       "    </tr>\n",
       "  </tbody>\n",
       "</table>\n",
       "<p>237 rows × 13 columns</p>\n",
       "</div>"
      ],
      "text/plain": [
       "     age  sex  cp  trestbps  chol  fbs  restecg  thalach  exang  oldpeak  \\\n",
       "282   43    1   3       120   177    0        2      120      1      2.5   \n",
       "81    67    0   2       152   277    0        0      172      0      0.0   \n",
       "108   54    1   2       120   258    0        2      147      0      0.4   \n",
       "146   42    1   2       130   180    0        0      150      0      0.0   \n",
       "217   58    1   3       146   218    0        0      105      0      2.0   \n",
       "..   ...  ...  ..       ...   ...  ...      ...      ...    ...      ...   \n",
       "251   53    0   3       130   264    0        2      143      0      0.4   \n",
       "192   61    1   3       120   260    0        0      140      1      3.6   \n",
       "117   52    1   2       172   199    1        0      162      0      0.5   \n",
       "47    52    1   1       134   201    0        0      158      0      0.8   \n",
       "172   65    1   3       120   177    0        0      140      0      0.4   \n",
       "\n",
       "     slope  ca  thal  \n",
       "282      1   0     2  \n",
       "81       0   1     0  \n",
       "108      1   0     2  \n",
       "146      0   0     0  \n",
       "217      1   1     2  \n",
       "..     ...  ..   ...  \n",
       "251      1   0     0  \n",
       "192      1   1     2  \n",
       "117      0   0     2  \n",
       "47       0   1     0  \n",
       "172      0   0     2  \n",
       "\n",
       "[237 rows x 13 columns]"
      ]
     },
     "execution_count": 8,
     "metadata": {},
     "output_type": "execute_result"
    }
   ],
   "source": [
    "X_train"
   ]
  },
  {
   "cell_type": "code",
   "execution_count": 9,
   "metadata": {},
   "outputs": [],
   "source": [
    "from sklearn.preprocessing import StandardScaler\n",
    "sc = StandardScaler()\n",
    "X_train = sc.fit_transform(X_train)\n",
    "X_test = sc.fit_transform(X_test)"
   ]
  },
  {
   "cell_type": "code",
   "execution_count": 10,
   "metadata": {},
   "outputs": [],
   "source": [
    "# X_train"
   ]
  },
  {
   "cell_type": "code",
   "execution_count": 11,
   "metadata": {},
   "outputs": [],
   "source": [
    "# nn = tf.keras.models.Sequential()"
   ]
  },
  {
   "cell_type": "code",
   "execution_count": 12,
   "metadata": {},
   "outputs": [],
   "source": [
    "# nn.add(tf.keras.layers.Dense(units=5, activation=\"sigmoid\", name=\"layer1\"))\n",
    "# nn.add(tf.keras.layers.Dense(units=3, activation=\"sigmoid\", name=\"layer2\"))\n",
    "# nn.add(tf.keras.layers.Dense(units=1, activation=\"sigmoid\", name=\"layer3\"))"
   ]
  },
  {
   "cell_type": "code",
   "execution_count": 13,
   "metadata": {},
   "outputs": [],
   "source": [
    "# Compile Neural Network\n",
    "\n",
    "# model = nn.compile(optimizer=\"adam\", loss=\"binary_crossentropy\", metrics=['accuracy'])"
   ]
  },
  {
   "cell_type": "code",
   "execution_count": 14,
   "metadata": {},
   "outputs": [],
   "source": [
    "# model = create_model()\n"
   ]
  },
  {
   "cell_type": "code",
   "execution_count": 15,
   "metadata": {},
   "outputs": [
    {
     "data": {
      "text/plain": [
       "array([-1.28971679,  0.72734604,  0.90324872, -0.66766219, -1.29709962,\n",
       "       -0.42320737,  1.06550001, -1.31734051,  1.560379  ,  1.25143969,\n",
       "        0.67919832, -0.69877922,  1.25304084])"
      ]
     },
     "execution_count": 15,
     "metadata": {},
     "output_type": "execute_result"
    }
   ],
   "source": [
    "X_train[0]"
   ]
  },
  {
   "cell_type": "code",
   "execution_count": 16,
   "metadata": {},
   "outputs": [],
   "source": [
    "from keras.utils import to_categorical\n",
    "\n",
    "y_train = to_categorical(y_train)\n",
    "y_test = to_categorical(y_test)"
   ]
  },
  {
   "attachments": {},
   "cell_type": "markdown",
   "metadata": {},
   "source": [
    "nn_fit was not working because we had a categorical loss in create_model(). So we had to convert the data into categorical first\n"
   ]
  },
  {
   "cell_type": "code",
   "execution_count": 17,
   "metadata": {},
   "outputs": [
    {
     "data": {
      "text/plain": [
       "array([[1., 0.],\n",
       "       [1., 0.],\n",
       "       [0., 1.],\n",
       "       [0., 1.],\n",
       "       [1., 0.],\n",
       "       [0., 1.],\n",
       "       [0., 1.],\n",
       "       [0., 1.],\n",
       "       [0., 1.],\n",
       "       [0., 1.],\n",
       "       [1., 0.],\n",
       "       [1., 0.],\n",
       "       [0., 1.],\n",
       "       [0., 1.],\n",
       "       [1., 0.],\n",
       "       [0., 1.],\n",
       "       [1., 0.],\n",
       "       [0., 1.],\n",
       "       [0., 1.],\n",
       "       [0., 1.],\n",
       "       [1., 0.],\n",
       "       [0., 1.],\n",
       "       [0., 1.],\n",
       "       [0., 1.],\n",
       "       [1., 0.],\n",
       "       [0., 1.],\n",
       "       [0., 1.],\n",
       "       [0., 1.],\n",
       "       [0., 1.],\n",
       "       [1., 0.],\n",
       "       [1., 0.],\n",
       "       [1., 0.],\n",
       "       [1., 0.],\n",
       "       [0., 1.],\n",
       "       [0., 1.],\n",
       "       [0., 1.],\n",
       "       [1., 0.],\n",
       "       [0., 1.],\n",
       "       [1., 0.],\n",
       "       [0., 1.],\n",
       "       [0., 1.],\n",
       "       [0., 1.],\n",
       "       [0., 1.],\n",
       "       [1., 0.],\n",
       "       [0., 1.],\n",
       "       [0., 1.],\n",
       "       [0., 1.],\n",
       "       [0., 1.],\n",
       "       [0., 1.],\n",
       "       [1., 0.],\n",
       "       [1., 0.],\n",
       "       [0., 1.],\n",
       "       [1., 0.],\n",
       "       [0., 1.],\n",
       "       [1., 0.],\n",
       "       [0., 1.],\n",
       "       [1., 0.],\n",
       "       [0., 1.],\n",
       "       [1., 0.],\n",
       "       [0., 1.]], dtype=float32)"
      ]
     },
     "execution_count": 17,
     "metadata": {},
     "output_type": "execute_result"
    }
   ],
   "source": [
    "y_test"
   ]
  },
  {
   "cell_type": "code",
   "execution_count": 18,
   "metadata": {},
   "outputs": [],
   "source": [
    "from keras.models import Sequential\n",
    "from keras.layers import Dense\n",
    "from keras.optimizers import Adam\n",
    "from keras.layers import Dropout\n",
    "from keras import regularizers\n",
    "\n",
    "def create_model():\n",
    "    model = Sequential()\n",
    "    model.add(Dense(units=16, input_dim=13, kernel_initializer='normal', activation='sigmoid'))\n",
    "    model.add(Dropout(0.25))\n",
    "    \n",
    "    model.add(Dense(units=8, kernel_initializer='normal', activation='sigmoid'))\n",
    "    model.add(Dropout(0.25))\n",
    "    \n",
    "    model.add(Dense(units=2, activation='sigmoid'))\n",
    "    \n",
    "    \n",
    "    \n",
    "    adam = Adam(learning_rate= 0.001)\n",
    "    model.compile(loss='categorical_crossentropy', optimizer='adam', metrics=['accuracy'])\n",
    "    return model"
   ]
  },
  {
   "cell_type": "code",
   "execution_count": 19,
   "metadata": {},
   "outputs": [],
   "source": [
    "# from keras.models import Sequential\n",
    "# from keras.layers import Conv2D, MaxPooling2D\n",
    "# from keras.layers import Activation, Dropout, Flatten, Dense\n",
    "# import keras\n",
    "# from keras.models import Sequential\n",
    "# from keras.layers import Dense\n",
    "# import warnings\n",
    "\n",
    "# classifier = Sequential()\n",
    "\n",
    "# # Adding the input layer and the first hidden layer\n",
    "# classifier.add(Dense(init = 'uniform', activation = 'sigmoid', units=16))\n",
    "\n",
    "# # Adding the second hidden layer\n",
    "# classifier.add(Dense(init = 'uniform', activation = 'sigmoid', units=8))\n",
    "\n",
    "# # Adding the output layer\n",
    "# classifier.add(Dense(units=1, init = 'uniform', activation = 'sigmoid'))\n",
    "\n",
    "# # Compiling the ANN\n",
    "# classifier.compile(optimizer = 'adam', loss = 'binary_crossentropy', metrics = ['accuracy'])"
   ]
  },
  {
   "cell_type": "code",
   "execution_count": 20,
   "metadata": {},
   "outputs": [],
   "source": [
    "model = create_model()"
   ]
  },
  {
   "cell_type": "code",
   "execution_count": 21,
   "metadata": {},
   "outputs": [
    {
     "name": "stdout",
     "output_type": "stream",
     "text": [
      "Model: \"sequential\"\n",
      "_________________________________________________________________\n",
      " Layer (type)                Output Shape              Param #   \n",
      "=================================================================\n",
      " dense (Dense)               (None, 16)                224       \n",
      "                                                                 \n",
      " dropout (Dropout)           (None, 16)                0         \n",
      "                                                                 \n",
      " dense_1 (Dense)             (None, 8)                 136       \n",
      "                                                                 \n",
      " dropout_1 (Dropout)         (None, 8)                 0         \n",
      "                                                                 \n",
      " dense_2 (Dense)             (None, 2)                 18        \n",
      "                                                                 \n",
      "=================================================================\n",
      "Total params: 378\n",
      "Trainable params: 378\n",
      "Non-trainable params: 0\n",
      "_________________________________________________________________\n",
      "None\n"
     ]
    }
   ],
   "source": [
    "print(model.summary())"
   ]
  },
  {
   "cell_type": "code",
   "execution_count": null,
   "metadata": {},
   "outputs": [],
   "source": []
  },
  {
   "cell_type": "code",
   "execution_count": 22,
   "metadata": {},
   "outputs": [
    {
     "name": "stdout",
     "output_type": "stream",
     "text": [
      "Epoch 1/100\n",
      "24/24 [==============================] - 2s 17ms/step - loss: 0.8975 - accuracy: 0.5865 - val_loss: 1.1824 - val_accuracy: 0.3667\n",
      "Epoch 2/100\n",
      "24/24 [==============================] - 0s 4ms/step - loss: 0.8495 - accuracy: 0.5865 - val_loss: 1.0215 - val_accuracy: 0.3667\n",
      "Epoch 3/100\n",
      "24/24 [==============================] - 0s 5ms/step - loss: 0.7617 - accuracy: 0.5612 - val_loss: 0.9023 - val_accuracy: 0.3667\n",
      "Epoch 4/100\n",
      "24/24 [==============================] - 0s 5ms/step - loss: 0.7074 - accuracy: 0.5865 - val_loss: 0.8205 - val_accuracy: 0.3667\n",
      "Epoch 5/100\n",
      "24/24 [==============================] - 0s 6ms/step - loss: 0.7112 - accuracy: 0.5654 - val_loss: 0.7709 - val_accuracy: 0.3667\n",
      "Epoch 6/100\n",
      "24/24 [==============================] - 0s 4ms/step - loss: 0.6815 - accuracy: 0.5781 - val_loss: 0.7328 - val_accuracy: 0.3667\n",
      "Epoch 7/100\n",
      "24/24 [==============================] - 0s 4ms/step - loss: 0.6450 - accuracy: 0.6203 - val_loss: 0.7078 - val_accuracy: 0.3667\n",
      "Epoch 8/100\n",
      "24/24 [==============================] - 0s 5ms/step - loss: 0.6478 - accuracy: 0.6667 - val_loss: 0.6743 - val_accuracy: 0.4333\n",
      "Epoch 9/100\n",
      "24/24 [==============================] - 0s 5ms/step - loss: 0.6492 - accuracy: 0.6540 - val_loss: 0.6560 - val_accuracy: 0.5167\n",
      "Epoch 10/100\n",
      "24/24 [==============================] - 0s 4ms/step - loss: 0.6338 - accuracy: 0.6582 - val_loss: 0.6430 - val_accuracy: 0.6000\n",
      "Epoch 11/100\n",
      "24/24 [==============================] - 0s 5ms/step - loss: 0.6333 - accuracy: 0.6624 - val_loss: 0.6368 - val_accuracy: 0.6333\n",
      "Epoch 12/100\n",
      "24/24 [==============================] - 0s 4ms/step - loss: 0.5916 - accuracy: 0.7257 - val_loss: 0.6300 - val_accuracy: 0.6500\n",
      "Epoch 13/100\n",
      "24/24 [==============================] - 0s 5ms/step - loss: 0.5925 - accuracy: 0.7426 - val_loss: 0.6194 - val_accuracy: 0.6833\n",
      "Epoch 14/100\n",
      "24/24 [==============================] - 0s 5ms/step - loss: 0.5857 - accuracy: 0.7384 - val_loss: 0.6089 - val_accuracy: 0.6833\n",
      "Epoch 15/100\n",
      "24/24 [==============================] - 0s 6ms/step - loss: 0.5808 - accuracy: 0.7426 - val_loss: 0.6012 - val_accuracy: 0.6833\n",
      "Epoch 16/100\n",
      "24/24 [==============================] - 0s 6ms/step - loss: 0.5608 - accuracy: 0.7384 - val_loss: 0.5919 - val_accuracy: 0.7167\n",
      "Epoch 17/100\n",
      "24/24 [==============================] - 0s 5ms/step - loss: 0.5592 - accuracy: 0.7300 - val_loss: 0.5844 - val_accuracy: 0.7167\n",
      "Epoch 18/100\n",
      "24/24 [==============================] - 0s 5ms/step - loss: 0.5402 - accuracy: 0.7764 - val_loss: 0.5790 - val_accuracy: 0.7167\n",
      "Epoch 19/100\n",
      "24/24 [==============================] - 0s 5ms/step - loss: 0.5425 - accuracy: 0.7511 - val_loss: 0.5703 - val_accuracy: 0.7333\n",
      "Epoch 20/100\n",
      "24/24 [==============================] - 0s 5ms/step - loss: 0.5583 - accuracy: 0.7300 - val_loss: 0.5642 - val_accuracy: 0.7333\n",
      "Epoch 21/100\n",
      "24/24 [==============================] - 0s 5ms/step - loss: 0.5495 - accuracy: 0.7553 - val_loss: 0.5630 - val_accuracy: 0.7333\n",
      "Epoch 22/100\n",
      "24/24 [==============================] - 0s 4ms/step - loss: 0.5427 - accuracy: 0.7511 - val_loss: 0.5620 - val_accuracy: 0.7333\n",
      "Epoch 23/100\n",
      "24/24 [==============================] - 0s 4ms/step - loss: 0.4806 - accuracy: 0.8186 - val_loss: 0.5518 - val_accuracy: 0.7500\n",
      "Epoch 24/100\n",
      "24/24 [==============================] - 0s 4ms/step - loss: 0.5053 - accuracy: 0.7679 - val_loss: 0.5421 - val_accuracy: 0.7833\n",
      "Epoch 25/100\n",
      "24/24 [==============================] - 0s 7ms/step - loss: 0.4945 - accuracy: 0.7722 - val_loss: 0.5377 - val_accuracy: 0.7833\n",
      "Epoch 26/100\n",
      "24/24 [==============================] - 0s 5ms/step - loss: 0.5201 - accuracy: 0.7679 - val_loss: 0.5328 - val_accuracy: 0.7833\n",
      "Epoch 27/100\n",
      "24/24 [==============================] - 0s 5ms/step - loss: 0.4975 - accuracy: 0.7764 - val_loss: 0.5298 - val_accuracy: 0.7833\n",
      "Epoch 28/100\n",
      "24/24 [==============================] - 0s 5ms/step - loss: 0.5043 - accuracy: 0.7426 - val_loss: 0.5315 - val_accuracy: 0.7833\n",
      "Epoch 29/100\n",
      "24/24 [==============================] - 0s 5ms/step - loss: 0.4935 - accuracy: 0.7679 - val_loss: 0.5261 - val_accuracy: 0.7833\n",
      "Epoch 30/100\n",
      "24/24 [==============================] - 0s 5ms/step - loss: 0.4692 - accuracy: 0.7806 - val_loss: 0.5247 - val_accuracy: 0.7833\n",
      "Epoch 31/100\n",
      "24/24 [==============================] - 0s 6ms/step - loss: 0.4795 - accuracy: 0.7848 - val_loss: 0.5233 - val_accuracy: 0.7833\n",
      "Epoch 32/100\n",
      "24/24 [==============================] - 0s 5ms/step - loss: 0.4888 - accuracy: 0.7848 - val_loss: 0.5161 - val_accuracy: 0.7833\n",
      "Epoch 33/100\n",
      "24/24 [==============================] - 0s 5ms/step - loss: 0.4610 - accuracy: 0.8017 - val_loss: 0.5129 - val_accuracy: 0.7833\n",
      "Epoch 34/100\n",
      "24/24 [==============================] - 0s 5ms/step - loss: 0.4738 - accuracy: 0.7890 - val_loss: 0.5141 - val_accuracy: 0.7833\n",
      "Epoch 35/100\n",
      "24/24 [==============================] - 0s 5ms/step - loss: 0.4559 - accuracy: 0.8059 - val_loss: 0.5097 - val_accuracy: 0.8000\n",
      "Epoch 36/100\n",
      "24/24 [==============================] - 0s 4ms/step - loss: 0.4616 - accuracy: 0.7890 - val_loss: 0.5040 - val_accuracy: 0.8000\n",
      "Epoch 37/100\n",
      "24/24 [==============================] - 0s 4ms/step - loss: 0.4597 - accuracy: 0.7890 - val_loss: 0.5043 - val_accuracy: 0.8000\n",
      "Epoch 38/100\n",
      "24/24 [==============================] - 0s 5ms/step - loss: 0.4611 - accuracy: 0.7806 - val_loss: 0.4978 - val_accuracy: 0.8000\n",
      "Epoch 39/100\n",
      "24/24 [==============================] - 0s 4ms/step - loss: 0.4632 - accuracy: 0.7975 - val_loss: 0.4998 - val_accuracy: 0.8000\n",
      "Epoch 40/100\n",
      "24/24 [==============================] - 0s 4ms/step - loss: 0.4471 - accuracy: 0.8143 - val_loss: 0.4977 - val_accuracy: 0.8000\n",
      "Epoch 41/100\n",
      "24/24 [==============================] - 0s 5ms/step - loss: 0.4423 - accuracy: 0.8017 - val_loss: 0.5013 - val_accuracy: 0.8000\n",
      "Epoch 42/100\n",
      "24/24 [==============================] - 0s 5ms/step - loss: 0.4152 - accuracy: 0.8186 - val_loss: 0.5015 - val_accuracy: 0.8000\n",
      "Epoch 43/100\n",
      "24/24 [==============================] - 0s 4ms/step - loss: 0.4378 - accuracy: 0.8354 - val_loss: 0.5006 - val_accuracy: 0.8000\n",
      "Epoch 44/100\n",
      "24/24 [==============================] - 0s 5ms/step - loss: 0.4553 - accuracy: 0.7975 - val_loss: 0.4992 - val_accuracy: 0.8167\n",
      "Epoch 45/100\n",
      "24/24 [==============================] - 0s 4ms/step - loss: 0.4391 - accuracy: 0.8228 - val_loss: 0.4951 - val_accuracy: 0.8167\n",
      "Epoch 46/100\n",
      "24/24 [==============================] - 0s 5ms/step - loss: 0.4386 - accuracy: 0.8059 - val_loss: 0.4927 - val_accuracy: 0.8167\n",
      "Epoch 47/100\n",
      "24/24 [==============================] - 0s 4ms/step - loss: 0.4400 - accuracy: 0.8101 - val_loss: 0.4956 - val_accuracy: 0.8167\n",
      "Epoch 48/100\n",
      "24/24 [==============================] - 0s 7ms/step - loss: 0.4232 - accuracy: 0.8101 - val_loss: 0.4913 - val_accuracy: 0.8167\n",
      "Epoch 49/100\n",
      "24/24 [==============================] - 0s 5ms/step - loss: 0.4401 - accuracy: 0.8312 - val_loss: 0.4921 - val_accuracy: 0.8167\n",
      "Epoch 50/100\n",
      "24/24 [==============================] - 0s 5ms/step - loss: 0.4276 - accuracy: 0.8523 - val_loss: 0.4880 - val_accuracy: 0.8333\n",
      "Epoch 51/100\n",
      "24/24 [==============================] - 0s 4ms/step - loss: 0.4299 - accuracy: 0.8270 - val_loss: 0.4895 - val_accuracy: 0.8333\n",
      "Epoch 52/100\n",
      "24/24 [==============================] - 0s 5ms/step - loss: 0.4440 - accuracy: 0.8017 - val_loss: 0.4826 - val_accuracy: 0.8333\n",
      "Epoch 53/100\n",
      "24/24 [==============================] - 0s 5ms/step - loss: 0.4601 - accuracy: 0.8059 - val_loss: 0.4858 - val_accuracy: 0.8333\n",
      "Epoch 54/100\n",
      "24/24 [==============================] - 0s 5ms/step - loss: 0.4410 - accuracy: 0.8143 - val_loss: 0.4845 - val_accuracy: 0.8333\n",
      "Epoch 55/100\n",
      "24/24 [==============================] - 0s 5ms/step - loss: 0.4413 - accuracy: 0.8186 - val_loss: 0.4863 - val_accuracy: 0.8333\n",
      "Epoch 56/100\n",
      "24/24 [==============================] - 0s 4ms/step - loss: 0.4117 - accuracy: 0.8439 - val_loss: 0.4834 - val_accuracy: 0.8333\n",
      "Epoch 57/100\n",
      "24/24 [==============================] - 0s 5ms/step - loss: 0.4356 - accuracy: 0.8397 - val_loss: 0.4805 - val_accuracy: 0.8333\n",
      "Epoch 58/100\n",
      "24/24 [==============================] - 0s 5ms/step - loss: 0.4394 - accuracy: 0.8354 - val_loss: 0.4771 - val_accuracy: 0.8333\n",
      "Epoch 59/100\n",
      "24/24 [==============================] - 0s 4ms/step - loss: 0.4253 - accuracy: 0.8228 - val_loss: 0.4731 - val_accuracy: 0.8333\n",
      "Epoch 60/100\n",
      "24/24 [==============================] - 0s 4ms/step - loss: 0.4370 - accuracy: 0.8186 - val_loss: 0.4766 - val_accuracy: 0.8333\n",
      "Epoch 61/100\n",
      "24/24 [==============================] - 0s 5ms/step - loss: 0.4137 - accuracy: 0.8481 - val_loss: 0.4790 - val_accuracy: 0.8333\n",
      "Epoch 62/100\n",
      "24/24 [==============================] - 0s 5ms/step - loss: 0.4230 - accuracy: 0.8228 - val_loss: 0.4766 - val_accuracy: 0.8333\n",
      "Epoch 63/100\n",
      "24/24 [==============================] - 0s 5ms/step - loss: 0.4236 - accuracy: 0.8608 - val_loss: 0.4771 - val_accuracy: 0.8333\n",
      "Epoch 64/100\n",
      "24/24 [==============================] - 0s 4ms/step - loss: 0.4310 - accuracy: 0.8439 - val_loss: 0.4754 - val_accuracy: 0.8333\n",
      "Epoch 65/100\n",
      "24/24 [==============================] - 0s 5ms/step - loss: 0.4252 - accuracy: 0.8059 - val_loss: 0.4717 - val_accuracy: 0.8500\n",
      "Epoch 66/100\n",
      "24/24 [==============================] - 0s 4ms/step - loss: 0.4186 - accuracy: 0.8312 - val_loss: 0.4755 - val_accuracy: 0.8500\n",
      "Epoch 67/100\n",
      "24/24 [==============================] - 0s 5ms/step - loss: 0.4217 - accuracy: 0.8439 - val_loss: 0.4762 - val_accuracy: 0.8333\n",
      "Epoch 68/100\n",
      "24/24 [==============================] - 0s 4ms/step - loss: 0.4156 - accuracy: 0.8397 - val_loss: 0.4742 - val_accuracy: 0.8500\n",
      "Epoch 69/100\n",
      "24/24 [==============================] - 0s 4ms/step - loss: 0.4132 - accuracy: 0.8354 - val_loss: 0.4740 - val_accuracy: 0.8500\n",
      "Epoch 70/100\n",
      "24/24 [==============================] - 0s 4ms/step - loss: 0.4137 - accuracy: 0.8439 - val_loss: 0.4686 - val_accuracy: 0.8500\n",
      "Epoch 71/100\n",
      "24/24 [==============================] - 0s 5ms/step - loss: 0.4211 - accuracy: 0.8439 - val_loss: 0.4720 - val_accuracy: 0.8500\n",
      "Epoch 72/100\n",
      "24/24 [==============================] - 0s 4ms/step - loss: 0.4019 - accuracy: 0.8608 - val_loss: 0.4719 - val_accuracy: 0.8500\n",
      "Epoch 73/100\n",
      "24/24 [==============================] - 0s 4ms/step - loss: 0.4085 - accuracy: 0.8565 - val_loss: 0.4743 - val_accuracy: 0.8500\n",
      "Epoch 74/100\n",
      "24/24 [==============================] - 0s 6ms/step - loss: 0.4439 - accuracy: 0.8312 - val_loss: 0.4781 - val_accuracy: 0.8333\n",
      "Epoch 75/100\n",
      "24/24 [==============================] - 0s 6ms/step - loss: 0.4170 - accuracy: 0.8397 - val_loss: 0.4720 - val_accuracy: 0.8500\n",
      "Epoch 76/100\n",
      "24/24 [==============================] - 0s 5ms/step - loss: 0.3988 - accuracy: 0.8565 - val_loss: 0.4666 - val_accuracy: 0.8500\n",
      "Epoch 77/100\n",
      "24/24 [==============================] - 0s 4ms/step - loss: 0.3907 - accuracy: 0.8270 - val_loss: 0.4700 - val_accuracy: 0.8333\n",
      "Epoch 78/100\n",
      "24/24 [==============================] - 0s 5ms/step - loss: 0.3987 - accuracy: 0.8523 - val_loss: 0.4783 - val_accuracy: 0.8333\n",
      "Epoch 79/100\n",
      "24/24 [==============================] - 0s 4ms/step - loss: 0.3980 - accuracy: 0.8439 - val_loss: 0.4701 - val_accuracy: 0.8333\n",
      "Epoch 80/100\n",
      "24/24 [==============================] - 0s 5ms/step - loss: 0.4151 - accuracy: 0.8439 - val_loss: 0.4688 - val_accuracy: 0.8333\n",
      "Epoch 81/100\n",
      "24/24 [==============================] - 0s 4ms/step - loss: 0.4030 - accuracy: 0.8481 - val_loss: 0.4653 - val_accuracy: 0.8333\n",
      "Epoch 82/100\n",
      "24/24 [==============================] - 0s 4ms/step - loss: 0.4167 - accuracy: 0.8354 - val_loss: 0.4720 - val_accuracy: 0.8333\n",
      "Epoch 83/100\n",
      "24/24 [==============================] - 0s 4ms/step - loss: 0.4155 - accuracy: 0.8270 - val_loss: 0.4672 - val_accuracy: 0.8333\n",
      "Epoch 84/100\n",
      "24/24 [==============================] - 0s 5ms/step - loss: 0.4370 - accuracy: 0.8397 - val_loss: 0.4673 - val_accuracy: 0.8333\n",
      "Epoch 85/100\n",
      "24/24 [==============================] - 0s 4ms/step - loss: 0.4054 - accuracy: 0.8312 - val_loss: 0.4729 - val_accuracy: 0.8333\n",
      "Epoch 86/100\n",
      "24/24 [==============================] - 0s 5ms/step - loss: 0.4175 - accuracy: 0.8608 - val_loss: 0.4713 - val_accuracy: 0.8333\n",
      "Epoch 87/100\n",
      "24/24 [==============================] - 0s 5ms/step - loss: 0.4088 - accuracy: 0.8439 - val_loss: 0.4590 - val_accuracy: 0.8333\n",
      "Epoch 88/100\n",
      "24/24 [==============================] - 0s 5ms/step - loss: 0.4066 - accuracy: 0.8312 - val_loss: 0.4588 - val_accuracy: 0.8333\n",
      "Epoch 89/100\n",
      "24/24 [==============================] - 0s 6ms/step - loss: 0.4181 - accuracy: 0.8397 - val_loss: 0.4596 - val_accuracy: 0.8333\n",
      "Epoch 90/100\n",
      "24/24 [==============================] - 0s 5ms/step - loss: 0.4387 - accuracy: 0.8439 - val_loss: 0.4599 - val_accuracy: 0.8500\n",
      "Epoch 91/100\n",
      "24/24 [==============================] - 0s 4ms/step - loss: 0.4029 - accuracy: 0.8481 - val_loss: 0.4630 - val_accuracy: 0.8333\n",
      "Epoch 92/100\n",
      "24/24 [==============================] - 0s 4ms/step - loss: 0.4049 - accuracy: 0.8397 - val_loss: 0.4584 - val_accuracy: 0.8667\n",
      "Epoch 93/100\n",
      "24/24 [==============================] - 0s 4ms/step - loss: 0.3905 - accuracy: 0.8523 - val_loss: 0.4645 - val_accuracy: 0.8500\n",
      "Epoch 94/100\n",
      "24/24 [==============================] - 0s 5ms/step - loss: 0.4121 - accuracy: 0.8397 - val_loss: 0.4659 - val_accuracy: 0.8500\n",
      "Epoch 95/100\n",
      "24/24 [==============================] - 0s 5ms/step - loss: 0.4284 - accuracy: 0.8312 - val_loss: 0.4630 - val_accuracy: 0.8500\n",
      "Epoch 96/100\n",
      "24/24 [==============================] - 0s 6ms/step - loss: 0.4241 - accuracy: 0.8270 - val_loss: 0.4621 - val_accuracy: 0.8500\n",
      "Epoch 97/100\n",
      "24/24 [==============================] - 0s 6ms/step - loss: 0.4131 - accuracy: 0.8565 - val_loss: 0.4663 - val_accuracy: 0.8500\n",
      "Epoch 98/100\n",
      "24/24 [==============================] - 0s 4ms/step - loss: 0.4165 - accuracy: 0.8312 - val_loss: 0.4660 - val_accuracy: 0.8500\n",
      "Epoch 99/100\n",
      "24/24 [==============================] - 0s 4ms/step - loss: 0.3811 - accuracy: 0.8650 - val_loss: 0.4673 - val_accuracy: 0.8500\n",
      "Epoch 100/100\n",
      "24/24 [==============================] - 0s 4ms/step - loss: 0.4203 - accuracy: 0.8523 - val_loss: 0.4655 - val_accuracy: 0.8500\n"
     ]
    }
   ],
   "source": [
    "nn_fit = model.fit(X_train, y_train, validation_data=(X_test, y_test), epochs=100, batch_size=10)"
   ]
  },
  {
   "cell_type": "code",
   "execution_count": 23,
   "metadata": {},
   "outputs": [
    {
     "data": {
      "image/png": "[encoded data removed]",
      "text/plain": [
       "<Figure size 432x288 with 1 Axes>"
      ]
     },
     "metadata": {
      "needs_background": "light"
     },
     "output_type": "display_data"
    }
   ],
   "source": [
    "# Accuracy of training and testing for 100 iterations\n",
    "\n",
    "plt.plot(nn_fit.history['accuracy'])\n",
    "plt.plot(nn_fit.history['val_accuracy'])\n",
    "plt.title('Model Accuracy')\n",
    "plt.ylabel('accuracy')\n",
    "plt.xlabel('epoch')\n",
    "plt.legend(['train', 'test'])\n",
    "plt.show()"
   ]
  },
  {
   "cell_type": "code",
   "execution_count": 24,
   "metadata": {},
   "outputs": [
    {
     "name": "stdout",
     "output_type": "stream",
     "text": [
      "2/2 [==============================] - 0s 4ms/step\n"
     ]
    }
   ],
   "source": [
    "# from sklearn.metrics import classification_report, accuracy_score\n",
    "\n",
    "prediction = model.predict(X_test)\n",
    "temp = 0\n",
    "\n",
    "pred = []\n",
    "\n",
    "for i in range(60):\n",
    "    if(prediction[i][1] > 0.5):\n",
    "        pred.append(1)\n",
    "    else:\n",
    "        pred.append(0)\n",
    "\n",
    "for i in range(X_test.shape[0]):\n",
    "    if(pred[i] == y_test[i][1]):\n",
    "        temp += 1\n",
    "\n",
    "acc = (((temp/X_test.shape[0]) + (temp%X_test.shape[0]))/X_test.shape[0])*100"
   ]
  },
  {
   "cell_type": "code",
   "execution_count": 25,
   "metadata": {},
   "outputs": [
    {
     "data": {
      "text/plain": [
       "0.8166666666666667"
      ]
     },
     "execution_count": 25,
     "metadata": {},
     "output_type": "execute_result"
    }
   ],
   "source": [
    "temp / X_test.shape[0]"
   ]
  },
  {
   "cell_type": "code",
   "execution_count": 26,
   "metadata": {},
   "outputs": [
    {
     "data": {
      "text/plain": [
       "49"
      ]
     },
     "execution_count": 26,
     "metadata": {},
     "output_type": "execute_result"
    }
   ],
   "source": [
    "temp % X_test.shape[0]"
   ]
  },
  {
   "cell_type": "code",
   "execution_count": 27,
   "metadata": {},
   "outputs": [
    {
     "name": "stdout",
     "output_type": "stream",
     "text": [
      "Testing accuracy:  83.02777777777777\n"
     ]
    }
   ],
   "source": [
    "print(f\"Testing accuracy: \", acc)"
   ]
  },
  {
   "cell_type": "code",
   "execution_count": 28,
   "metadata": {},
   "outputs": [
    {
     "data": {
      "text/plain": [
       "60"
      ]
     },
     "execution_count": 28,
     "metadata": {},
     "output_type": "execute_result"
    }
   ],
   "source": [
    "X_test.shape[0]"
   ]
  },
  {
   "cell_type": "code",
   "execution_count": 31,
   "metadata": {},
   "outputs": [],
   "source": [
    "# prediction"
   ]
  },
  {
   "cell_type": "code",
   "execution_count": 30,
   "metadata": {},
   "outputs": [
    {
     "data": {
      "text/plain": [
       "array([[1., 0.],\n",
       "       [1., 0.],\n",
       "       [0., 1.],\n",
       "       [0., 1.],\n",
       "       [1., 0.],\n",
       "       [0., 1.],\n",
       "       [0., 1.],\n",
       "       [0., 1.],\n",
       "       [0., 1.],\n",
       "       [0., 1.],\n",
       "       [1., 0.],\n",
       "       [1., 0.],\n",
       "       [0., 1.],\n",
       "       [0., 1.],\n",
       "       [1., 0.],\n",
       "       [0., 1.],\n",
       "       [1., 0.],\n",
       "       [0., 1.],\n",
       "       [0., 1.],\n",
       "       [0., 1.],\n",
       "       [1., 0.],\n",
       "       [0., 1.],\n",
       "       [0., 1.],\n",
       "       [0., 1.],\n",
       "       [1., 0.],\n",
       "       [0., 1.],\n",
       "       [0., 1.],\n",
       "       [0., 1.],\n",
       "       [0., 1.],\n",
       "       [1., 0.],\n",
       "       [1., 0.],\n",
       "       [1., 0.],\n",
       "       [1., 0.],\n",
       "       [0., 1.],\n",
       "       [0., 1.],\n",
       "       [0., 1.],\n",
       "       [1., 0.],\n",
       "       [0., 1.],\n",
       "       [1., 0.],\n",
       "       [0., 1.],\n",
       "       [0., 1.],\n",
       "       [0., 1.],\n",
       "       [0., 1.],\n",
       "       [1., 0.],\n",
       "       [0., 1.],\n",
       "       [0., 1.],\n",
       "       [0., 1.],\n",
       "       [0., 1.],\n",
       "       [0., 1.],\n",
       "       [1., 0.],\n",
       "       [1., 0.],\n",
       "       [0., 1.],\n",
       "       [1., 0.],\n",
       "       [0., 1.],\n",
       "       [1., 0.],\n",
       "       [0., 1.],\n",
       "       [1., 0.],\n",
       "       [0., 1.],\n",
       "       [1., 0.],\n",
       "       [0., 1.]], dtype=float32)"
      ]
     },
     "execution_count": 30,
     "metadata": {},
     "output_type": "execute_result"
    }
   ],
   "source": [
    "# y_test"
   ]
  },
  {
   "cell_type": "code",
   "execution_count": null,
   "metadata": {},
   "outputs": [],
   "source": []
  }
 ],
 "metadata": {
  "kernelspec": {
   "display_name": "Python 3",
   "language": "python",
   "name": "python3"
  },
  "language_info": {
   "codemirror_mode": {
    "name": "ipython",
    "version": 3
   },
   "file_extension": ".py",
   "mimetype": "text/x-python",
   "name": "python",
   "nbconvert_exporter": "python",
   "pygments_lexer": "ipython3",
   "version": "3.10.5"
  },
  "orig_nbformat": 4,
  "vscode": {
   "interpreter": {
    "hash": "fbc768028c3e6ead51d9a200ddcb2ec858ae62844dcd1994729a8279be9b48f2"
   }
  }
 },
 "nbformat": 4,
 "nbformat_minor": 2
}
