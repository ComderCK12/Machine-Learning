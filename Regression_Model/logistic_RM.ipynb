{
 "cells": [
  {
   "cell_type": "code",
   "execution_count": 1,
   "metadata": {},
   "outputs": [],
   "source": [
    "# https://www.youtube.com/redirect?event=video_description&redir_token=QUFFLUhqbXFOaFRkcmg0aDRTSzQ2S0NZM0U1YXBUNDlWd3xBQ3Jtc0ttZTVrRndENW5BOGprUWVMZVVZdVlPMHppbFlHVENoS0RCSnBjNnAwVjBscmpvUTlVQ2tsdlFrU3ZJbFVQVGVDeklIeExKTk5MTDhlZGxraVhZWW5ZRm92emRReXlRZktObmdaMUROQzV2bUcxMm1fZw&q=https%3A%2F%2Fwww.datarmatics.com%2Fdata-science%2Fhow-to-perform-logistic-regression-in-pythonstep-by-step%2F&v=HYcXgN9HaTM\n",
    "\n",
    "# Link to detailed code\n"
   ]
  },
  {
   "attachments": {},
   "cell_type": "markdown",
   "metadata": {},
   "source": [
    "## Logistic Regression Model with sklearn"
   ]
  },
  {
   "cell_type": "code",
   "execution_count": 20,
   "metadata": {},
   "outputs": [],
   "source": [
    "# Import required modules\n",
    "\n",
    "from sklearn.datasets import make_classification\n",
    "import matplotlib.pyplot as plt\n",
    "from sklearn.linear_model import LogisticRegression\n",
    "from sklearn.model_selection import train_test_split\n",
    "from sklearn.metrics import confusion_matrix\n",
    "import pandas as pd\n",
    "import numpy as np"
   ]
  },
  {
   "cell_type": "code",
   "execution_count": 3,
   "metadata": {},
   "outputs": [],
   "source": [
    "# Generate dataset for logistic regression \n",
    "\n",
    "x, y = make_classification(\n",
    "    n_samples = 100,\n",
    "    n_features=1,\n",
    "    n_classes=2,\n",
    "    n_clusters_per_class=1,\n",
    "    flip_y=0.03,\n",
    "    n_informative=1,\n",
    "    n_redundant=0,\n",
    "    n_repeated=0\n",
    ")\n"
   ]
  },
  {
   "cell_type": "code",
   "execution_count": 4,
   "metadata": {},
   "outputs": [
    {
     "name": "stdout",
     "output_type": "stream",
     "text": [
      "[[ 0.86862662]\n",
      " [-0.990991  ]\n",
      " [-1.36162097]\n",
      " [-1.6506852 ]\n",
      " [-0.97627022]\n",
      " [ 0.81147851]\n",
      " [ 1.65699067]\n",
      " [ 0.63688093]\n",
      " [ 0.63092818]\n",
      " [ 1.45753959]\n",
      " [ 1.28923802]\n",
      " [-0.47890775]\n",
      " [-0.06444956]\n",
      " [-0.80530264]\n",
      " [-1.99978667]\n",
      " [ 0.63504989]\n",
      " [ 0.34780169]\n",
      " [-1.71581014]\n",
      " [ 0.28539736]\n",
      " [ 1.30279374]\n",
      " [ 2.26420539]\n",
      " [-0.57504775]\n",
      " [-1.90435958]\n",
      " [ 1.0020366 ]\n",
      " [ 0.94255298]\n",
      " [-1.42918317]\n",
      " [-0.41460179]\n",
      " [ 1.40454771]\n",
      " [-1.32566022]\n",
      " [ 0.71180373]\n",
      " [-0.04582141]\n",
      " [ 1.13454201]\n",
      " [ 2.16505915]\n",
      " [ 1.07797536]\n",
      " [-1.46641511]\n",
      " [-0.14946609]\n",
      " [-1.26015524]\n",
      " [-1.06870616]\n",
      " [-1.45295388]\n",
      " [ 0.59704361]\n",
      " [-1.9859154 ]\n",
      " [ 0.92701192]\n",
      " [-0.38815284]\n",
      " [-1.22298705]\n",
      " [-0.30048866]\n",
      " [-1.14258943]\n",
      " [ 0.60899389]\n",
      " [-0.9233125 ]\n",
      " [ 0.90546602]\n",
      " [-0.73270897]\n",
      " [-1.38542607]\n",
      " [-1.17806397]\n",
      " [ 1.81725663]\n",
      " [-0.82876324]\n",
      " [-0.65501042]\n",
      " [ 1.07876896]\n",
      " [-1.24754061]\n",
      " [-1.12682933]\n",
      " [-0.10478046]\n",
      " [ 1.53737304]\n",
      " [-1.84661206]\n",
      " [-0.64118949]\n",
      " [ 1.48404921]\n",
      " [-0.57909847]\n",
      " [-1.24751939]\n",
      " [ 1.60929694]\n",
      " [ 1.90683976]\n",
      " [-0.69696542]\n",
      " [-0.18292753]\n",
      " [ 1.10000477]\n",
      " [-1.80094367]\n",
      " [ 0.56379301]\n",
      " [ 1.50278486]\n",
      " [ 0.14862537]\n",
      " [ 1.31775953]\n",
      " [-0.98656515]\n",
      " [ 0.88825118]\n",
      " [ 1.51417383]\n",
      " [-1.16085611]\n",
      " [-1.67000925]\n",
      " [ 0.40638552]\n",
      " [ 0.46382044]\n",
      " [ 1.61367463]\n",
      " [ 0.69654034]\n",
      " [ 1.03506441]\n",
      " [ 0.45166381]\n",
      " [ 0.6444415 ]\n",
      " [ 1.59572271]\n",
      " [-1.43011702]\n",
      " [-0.77318092]\n",
      " [ 1.22225812]\n",
      " [ 0.45953095]\n",
      " [-1.0701433 ]\n",
      " [ 1.43327916]\n",
      " [ 0.97158327]\n",
      " [-2.00636521]\n",
      " [-0.65222448]\n",
      " [ 1.31127516]\n",
      " [-0.49228617]\n",
      " [-0.12702432]] [1 0 0 0 0 1 1 1 1 1 1 0 0 0 0 1 1 0 0 1 1 0 0 1 1 0 0 1 0 1 1 1 1 1 0 0 0\n",
      " 0 0 1 0 1 0 0 1 0 1 0 1 0 0 0 1 0 0 1 1 0 1 1 0 0 1 0 0 1 1 0 1 1 0 1 1 1\n",
      " 1 0 1 1 0 0 1 1 1 1 1 1 1 1 0 0 1 0 0 1 1 0 0 1 0 0]\n"
     ]
    }
   ],
   "source": [
    "print(x,y)"
   ]
  },
  {
   "cell_type": "code",
   "execution_count": 5,
   "metadata": {},
   "outputs": [
    {
     "data": {
      "image/png": "[encoded data removed]",
      "text/plain": [
       "<Figure size 432x288 with 1 Axes>"
      ]
     },
     "metadata": {
      "needs_background": "light"
     },
     "output_type": "display_data"
    }
   ],
   "source": [
    "# Visualize data\n",
    "\n",
    "plt.scatter(x, y, c=y, cmap='rainbow')\n",
    "plt.title('Scatter Plot of Logistic Regression')\n",
    "plt.show()"
   ]
  },
  {
   "cell_type": "code",
   "execution_count": 6,
   "metadata": {},
   "outputs": [],
   "source": [
    "# Split dataset\n",
    "\n",
    "x_train, x_test, y_train, y_test = train_test_split(x, y, random_state=1)"
   ]
  },
  {
   "cell_type": "code",
   "execution_count": 7,
   "metadata": {},
   "outputs": [
    {
     "data": {
      "text/html": [
       "<style>#sk-container-id-1 {color: black;background-color: white;}#sk-container-id-1 pre{padding: 0;}#sk-container-id-1 div.sk-toggleable {background-color: white;}#sk-container-id-1 label.sk-toggleable__label {cursor: pointer;display: block;width: 100%;margin-bottom: 0;padding: 0.3em;box-sizing: border-box;text-align: center;}#sk-container-id-1 label.sk-toggleable__label-arrow:before {content: \"▸\";float: left;margin-right: 0.25em;color: #696969;}#sk-container-id-1 label.sk-toggleable__label-arrow:hover:before {color: black;}#sk-container-id-1 div.sk-estimator:hover label.sk-toggleable__label-arrow:before {color: black;}#sk-container-id-1 div.sk-toggleable__content {max-height: 0;max-width: 0;overflow: hidden;text-align: left;background-color: #f0f8ff;}#sk-container-id-1 div.sk-toggleable__content pre {margin: 0.2em;color: black;border-radius: 0.25em;background-color: #f0f8ff;}#sk-container-id-1 input.sk-toggleable__control:checked~div.sk-toggleable__content {max-height: 200px;max-width: 100%;overflow: auto;}#sk-container-id-1 input.sk-toggleable__control:checked~label.sk-toggleable__label-arrow:before {content: \"▾\";}#sk-container-id-1 div.sk-estimator input.sk-toggleable__control:checked~label.sk-toggleable__label {background-color: #d4ebff;}#sk-container-id-1 div.sk-label input.sk-toggleable__control:checked~label.sk-toggleable__label {background-color: #d4ebff;}#sk-container-id-1 input.sk-hidden--visually {border: 0;clip: rect(1px 1px 1px 1px);clip: rect(1px, 1px, 1px, 1px);height: 1px;margin: -1px;overflow: hidden;padding: 0;position: absolute;width: 1px;}#sk-container-id-1 div.sk-estimator {font-family: monospace;background-color: #f0f8ff;border: 1px dotted black;border-radius: 0.25em;box-sizing: border-box;margin-bottom: 0.5em;}#sk-container-id-1 div.sk-estimator:hover {background-color: #d4ebff;}#sk-container-id-1 div.sk-parallel-item::after {content: \"\";width: 100%;border-bottom: 1px solid gray;flex-grow: 1;}#sk-container-id-1 div.sk-label:hover label.sk-toggleable__label {background-color: #d4ebff;}#sk-container-id-1 div.sk-serial::before {content: \"\";position: absolute;border-left: 1px solid gray;box-sizing: border-box;top: 0;bottom: 0;left: 50%;z-index: 0;}#sk-container-id-1 div.sk-serial {display: flex;flex-direction: column;align-items: center;background-color: white;padding-right: 0.2em;padding-left: 0.2em;position: relative;}#sk-container-id-1 div.sk-item {position: relative;z-index: 1;}#sk-container-id-1 div.sk-parallel {display: flex;align-items: stretch;justify-content: center;background-color: white;position: relative;}#sk-container-id-1 div.sk-item::before, #sk-container-id-1 div.sk-parallel-item::before {content: \"\";position: absolute;border-left: 1px solid gray;box-sizing: border-box;top: 0;bottom: 0;left: 50%;z-index: -1;}#sk-container-id-1 div.sk-parallel-item {display: flex;flex-direction: column;z-index: 1;position: relative;background-color: white;}#sk-container-id-1 div.sk-parallel-item:first-child::after {align-self: flex-end;width: 50%;}#sk-container-id-1 div.sk-parallel-item:last-child::after {align-self: flex-start;width: 50%;}#sk-container-id-1 div.sk-parallel-item:only-child::after {width: 0;}#sk-container-id-1 div.sk-dashed-wrapped {border: 1px dashed gray;margin: 0 0.4em 0.5em 0.4em;box-sizing: border-box;padding-bottom: 0.4em;background-color: white;}#sk-container-id-1 div.sk-label label {font-family: monospace;font-weight: bold;display: inline-block;line-height: 1.2em;}#sk-container-id-1 div.sk-label-container {text-align: center;}#sk-container-id-1 div.sk-container {/* jupyter's `normalize.less` sets `[hidden] { display: none; }` but bootstrap.min.css set `[hidden] { display: none !important; }` so we also need the `!important` here to be able to override the default hidden behavior on the sphinx rendered scikit-learn.org. See: https://github.com/scikit-learn/scikit-learn/issues/21755 */display: inline-block !important;position: relative;}#sk-container-id-1 div.sk-text-repr-fallback {display: none;}</style><div id=\"sk-container-id-1\" class=\"sk-top-container\"><div class=\"sk-text-repr-fallback\"><pre>LogisticRegression()</pre><b>In a Jupyter environment, please rerun this cell to show the HTML representation or trust the notebook. <br />On GitHub, the HTML representation is unable to render, please try loading this page with nbviewer.org.</b></div><div class=\"sk-container\" hidden><div class=\"sk-item\"><div class=\"sk-estimator sk-toggleable\"><input class=\"sk-toggleable__control sk-hidden--visually\" id=\"sk-estimator-id-1\" type=\"checkbox\" checked><label for=\"sk-estimator-id-1\" class=\"sk-toggleable__label sk-toggleable__label-arrow\">LogisticRegression</label><div class=\"sk-toggleable__content\"><pre>LogisticRegression()</pre></div></div></div></div></div>"
      ],
      "text/plain": [
       "LogisticRegression()"
      ]
     },
     "execution_count": 7,
     "metadata": {},
     "output_type": "execute_result"
    }
   ],
   "source": [
    "# Create a logistic regression object, perform logistic regression\n",
    "\n",
    "log_reg = LogisticRegression()\n",
    "log_reg.fit(x_train, y_train)"
   ]
  },
  {
   "cell_type": "code",
   "execution_count": 8,
   "metadata": {},
   "outputs": [],
   "source": [
    "# Make prediction\n",
    "\n",
    "y_pred = log_reg.predict(x_test)"
   ]
  },
  {
   "cell_type": "code",
   "execution_count": 11,
   "metadata": {},
   "outputs": [
    {
     "data": {
      "image/png": "[encoded data removed]",
      "text/plain": [
       "<Figure size 432x288 with 1 Axes>"
      ]
     },
     "metadata": {
      "needs_background": "light"
     },
     "output_type": "display_data"
    }
   ],
   "source": [
    "plt.scatter(x_test, y_pred)\n",
    "plt.title('Scatter Plot of Test set')\n",
    "plt.show()"
   ]
  },
  {
   "cell_type": "code",
   "execution_count": 13,
   "metadata": {},
   "outputs": [
    {
     "data": {
      "text/plain": [
       "array([[ 6,  0],\n",
       "       [ 2, 17]], dtype=int64)"
      ]
     },
     "execution_count": 13,
     "metadata": {},
     "output_type": "execute_result"
    }
   ],
   "source": [
    "# Confusion matrix\n",
    "\n",
    "confusion_matrix(y_test, y_pred)"
   ]
  },
  {
   "attachments": {},
   "cell_type": "markdown",
   "metadata": {},
   "source": [
    "## Logistic Regression model without sklearn"
   ]
  },
  {
   "cell_type": "code",
   "execution_count": 24,
   "metadata": {},
   "outputs": [],
   "source": [
    "def prediction(input_x_test):\n",
    "    pred_y = (1/(1 + np.exp(-input_x_test)))\n",
    "    return pred_y"
   ]
  },
  {
   "cell_type": "code",
   "execution_count": 28,
   "metadata": {},
   "outputs": [
    {
     "data": {
      "text/plain": [
       "array([[0.60022088],\n",
       "       [0.73789656],\n",
       "       [0.74611065],\n",
       "       [0.6139201 ],\n",
       "       [0.80741173],\n",
       "       [0.15241163],\n",
       "       [0.22094717],\n",
       "       [0.83392094],\n",
       "       [0.750261  ],\n",
       "       [0.83331375],\n",
       "       [0.25537583],\n",
       "       [0.64497964],\n",
       "       [0.22312616],\n",
       "       [0.86023662],\n",
       "       [0.23540048],\n",
       "       [0.89706764],\n",
       "       [0.75667614],\n",
       "       [0.42543803],\n",
       "       [0.23851176],\n",
       "       [0.78401819],\n",
       "       [0.20397698],\n",
       "       [0.5370881 ],\n",
       "       [0.78772646],\n",
       "       [0.81518341],\n",
       "       [0.78630479]])"
      ]
     },
     "execution_count": 28,
     "metadata": {},
     "output_type": "execute_result"
    }
   ],
   "source": [
    "y_values = prediction(x_test)\n",
    "y_values"
   ]
  },
  {
   "cell_type": "code",
   "execution_count": 31,
   "metadata": {},
   "outputs": [
    {
     "data": {
      "image/png": "[encoded data removed]",
      "text/plain": [
       "<Figure size 432x288 with 1 Axes>"
      ]
     },
     "metadata": {
      "needs_background": "light"
     },
     "output_type": "display_data"
    }
   ],
   "source": [
    "plt.scatter(x_test, y_values)\n",
    "\n",
    "plt.show()\n",
    "\n",
    "# kuch toh gadbad hai yaha"
   ]
  },
  {
   "cell_type": "code",
   "execution_count": null,
   "metadata": {},
   "outputs": [],
   "source": []
  }
 ],
 "metadata": {
  "kernelspec": {
   "display_name": "Python 3",
   "language": "python",
   "name": "python3"
  },
  "language_info": {
   "codemirror_mode": {
    "name": "ipython",
    "version": 3
   },
   "file_extension": ".py",
   "mimetype": "text/x-python",
   "name": "python",
   "nbconvert_exporter": "python",
   "pygments_lexer": "ipython3",
   "version": "3.10.5"
  },
  "orig_nbformat": 4,
  "vscode": {
   "interpreter": {
    "hash": "fbc768028c3e6ead51d9a200ddcb2ec858ae62844dcd1994729a8279be9b48f2"
   }
  }
 },
 "nbformat": 4,
 "nbformat_minor": 2
}
